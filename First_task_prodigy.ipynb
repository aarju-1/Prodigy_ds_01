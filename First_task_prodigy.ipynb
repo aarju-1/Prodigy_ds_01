{
 "cells": [
  {
   "cell_type": "markdown",
   "id": "7587aedf-8e40-4221-9dc4-c9914b797434",
   "metadata": {},
   "source": [
    "Here I am going to do data visualization of population growth of 15-64 age group of South Asian Countires using multiple bar diagram. For this I am importing pandas to read CSV files of data which I have taken from WorldBank Population Data  and matplotlib modules to make bar diagram of data."
   ]
  },
  {
   "cell_type": "code",
   "execution_count": 3,
   "id": "b2655889-0962-4d77-be54-46aece27000b",
   "metadata": {},
   "outputs": [],
   "source": [
    "import pandas as pd\n",
    "import matplotlib.pyplot as plt"
   ]
  },
  {
   "cell_type": "code",
   "execution_count": 2,
   "id": "998c7ab0-5b63-4f26-b05d-2a0a43414e58",
   "metadata": {},
   "outputs": [],
   "source": [
    "data = pd.read_csv(\"C:/Users/HP/Downloads/P_Data_Extract_From_World_Development_Indicators (1)/3987ad54-7b5a-4981-9b63-f10820910e11_Data.csv\")"
   ]
  },
  {
   "cell_type": "markdown",
   "id": "006b72ec-2393-400b-acae-612c335cfe41",
   "metadata": {},
   "source": [
    "I have read CSV files as there was large number of data in the file,so i dropped down some data  from original file using iloc which delete data of index given. I kept the data of population of age group of 15 to 64."
   ]
  },
  {
   "cell_type": "code",
   "execution_count": 3,
   "id": "bfe9bb8d-8565-4962-b62a-0f132187e9a2",
   "metadata": {},
   "outputs": [],
   "source": [
    "data = data.iloc[16:24] \n",
    "\n",
    "\n"
   ]
  },
  {
   "cell_type": "markdown",
   "id": "802cd199-3024-4939-9dc9-6b798c0e8ea8",
   "metadata": {},
   "source": [
    "I also dropped some of the columns which was of no need for bar diagram and dropped some columns of year. Here axis 1 represents column, axis 0 represents rows by default .\n"
   ]
  },
  {
   "cell_type": "code",
   "execution_count": 4,
   "id": "1c030473-d22c-4c14-b309-8dfa5f51ec77",
   "metadata": {},
   "outputs": [],
   "source": [
    "population_data = data.drop(['Series Code','Series Name','Country Code','2018 [YR2018]','2022 [YR2022]'],axis = 1)\n"
   ]
  },
  {
   "cell_type": "markdown",
   "id": "e1879cf0-307a-4074-8b62-a70cffd63fa2",
   "metadata": {},
   "source": [
    "Population data which we want to visualize is seen below."
   ]
  },
  {
   "cell_type": "code",
   "execution_count": 5,
   "id": "94624ff1-e3bf-423a-a994-ea5cb4ea1ce7",
   "metadata": {},
   "outputs": [
    {
     "data": {
      "text/html": [
       "<div>\n",
       "<style scoped>\n",
       "    .dataframe tbody tr th:only-of-type {\n",
       "        vertical-align: middle;\n",
       "    }\n",
       "\n",
       "    .dataframe tbody tr th {\n",
       "        vertical-align: top;\n",
       "    }\n",
       "\n",
       "    .dataframe thead th {\n",
       "        text-align: right;\n",
       "    }\n",
       "</style>\n",
       "<table border=\"1\" class=\"dataframe\">\n",
       "  <thead>\n",
       "    <tr style=\"text-align: right;\">\n",
       "      <th></th>\n",
       "      <th>Country Name</th>\n",
       "      <th>2019 [YR2019]</th>\n",
       "      <th>2020 [YR2020]</th>\n",
       "      <th>2021 [YR2021]</th>\n",
       "    </tr>\n",
       "  </thead>\n",
       "  <tbody>\n",
       "    <tr>\n",
       "      <th>16</th>\n",
       "      <td>Afghanistan</td>\n",
       "      <td>53.290894</td>\n",
       "      <td>53.775135</td>\n",
       "      <td>54.171399</td>\n",
       "    </tr>\n",
       "    <tr>\n",
       "      <th>17</th>\n",
       "      <td>Bangladesh</td>\n",
       "      <td>66.999306</td>\n",
       "      <td>67.384859</td>\n",
       "      <td>67.719904</td>\n",
       "    </tr>\n",
       "    <tr>\n",
       "      <th>18</th>\n",
       "      <td>Bhutan</td>\n",
       "      <td>69.746723</td>\n",
       "      <td>70.441654</td>\n",
       "      <td>71.061041</td>\n",
       "    </tr>\n",
       "    <tr>\n",
       "      <th>19</th>\n",
       "      <td>India</td>\n",
       "      <td>66.933943</td>\n",
       "      <td>67.215346</td>\n",
       "      <td>67.509944</td>\n",
       "    </tr>\n",
       "    <tr>\n",
       "      <th>20</th>\n",
       "      <td>Maldives</td>\n",
       "      <td>73.855420</td>\n",
       "      <td>73.826584</td>\n",
       "      <td>73.737936</td>\n",
       "    </tr>\n",
       "    <tr>\n",
       "      <th>21</th>\n",
       "      <td>Nepal</td>\n",
       "      <td>63.218720</td>\n",
       "      <td>63.844319</td>\n",
       "      <td>64.559447</td>\n",
       "    </tr>\n",
       "    <tr>\n",
       "      <th>22</th>\n",
       "      <td>Pakistan</td>\n",
       "      <td>58.306744</td>\n",
       "      <td>58.553442</td>\n",
       "      <td>58.838485</td>\n",
       "    </tr>\n",
       "    <tr>\n",
       "      <th>23</th>\n",
       "      <td>Sri Lanka</td>\n",
       "      <td>65.622095</td>\n",
       "      <td>65.609808</td>\n",
       "      <td>65.628696</td>\n",
       "    </tr>\n",
       "  </tbody>\n",
       "</table>\n",
       "</div>"
      ],
      "text/plain": [
       "   Country Name  2019 [YR2019]  2020 [YR2020]  2021 [YR2021]\n",
       "16  Afghanistan      53.290894      53.775135      54.171399\n",
       "17   Bangladesh      66.999306      67.384859      67.719904\n",
       "18       Bhutan      69.746723      70.441654      71.061041\n",
       "19        India      66.933943      67.215346      67.509944\n",
       "20     Maldives      73.855420      73.826584      73.737936\n",
       "21        Nepal      63.218720      63.844319      64.559447\n",
       "22     Pakistan      58.306744      58.553442      58.838485\n",
       "23    Sri Lanka      65.622095      65.609808      65.628696"
      ]
     },
     "execution_count": 5,
     "metadata": {},
     "output_type": "execute_result"
    }
   ],
   "source": [
    "population_data"
   ]
  },
  {
   "cell_type": "markdown",
   "id": "a48581ee-cbff-4d5f-bb75-a7c3399dd39c",
   "metadata": {},
   "source": [
    "I am setting index value as Country Name so that in bar diagram in X - axis Country Name is shown instead of index value."
   ]
  },
  {
   "cell_type": "code",
   "execution_count": 6,
   "id": "2fd73616-b98e-41b5-9d03-44b6361e22b6",
   "metadata": {},
   "outputs": [],
   "source": [
    "population_data.set_index('Country Name',inplace = True)\n"
   ]
  },
  {
   "cell_type": "markdown",
   "id": "1b7e7761-e85f-402b-9acd-37efeb90e7b9",
   "metadata": {},
   "source": [
    "To plot bar daigram of above data from matlpotlib plot.bar is used and I have  given names of x axis ,y axis and title to the bar digram."
   ]
  },
  {
   "cell_type": "code",
   "execution_count": 7,
   "id": "ee9ecb97-789b-4fd5-b7cc-d967478ec5f2",
   "metadata": {},
   "outputs": [
    {
     "data": {
      "text/plain": [
       "<matplotlib.legend.Legend at 0x237d58ee830>"
      ]
     },
     "execution_count": 7,
     "metadata": {},
     "output_type": "execute_result"
    },
    {
     "data": {
      "image/png": "[encoded data removed]",
      "text/plain": [
       "<Figure size 640x480 with 1 Axes>"
      ]
     },
     "metadata": {},
     "output_type": "display_data"
    }
   ],
   "source": [
    "\n",
    "population_data.plot.bar()\n",
    "plt.xlabel('Country Name')\n",
    "plt.ylabel('Percentage of Total Population')\n",
    "plt.title('Population of South Asian Countries of age 15-64')\n",
    "plt.legend(prop = {\"size\":7})\n"
   ]
  },
  {
   "cell_type": "markdown",
   "id": "3fb8fb3e-0fc2-49df-9420-bf1936bb955f",
   "metadata": {},
   "source": []
  }
 ],
 "metadata": {
  "kernelspec": {
   "display_name": "Python 3 (ipykernel)",
   "language": "python",
   "name": "python3"
  },
  "language_info": {
   "codemirror_mode": {
    "name": "ipython",
    "version": 3
   },
   "file_extension": ".py",
   "mimetype": "text/x-python",
   "name": "python",
   "nbconvert_exporter": "python",
   "pygments_lexer": "ipython3",
   "version": "3.10.13"
  }
 },
 "nbformat": 4,
 "nbformat_minor": 5
}
